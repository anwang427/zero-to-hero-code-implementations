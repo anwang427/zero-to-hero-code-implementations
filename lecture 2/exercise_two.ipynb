{
 "cells": [
  {
   "cell_type": "code",
   "execution_count": 16,
   "metadata": {},
   "outputs": [],
   "source": [
    "# Split up the dataset randomly into 80% train set, 10% dev set, 10% test set.\n",
    "# Train the bigram and trigram models only on the training set. Evaluate them on dev and test splits. What can you see?\n",
    "import random # shuffle the list of words to get an even distribution\n",
    "\n",
    "words = open('../names.txt', 'r').read().splitlines()\n",
    "random.seed(230)\n",
    "random.shuffle(words)\n",
    "train_set = words[:int(len(words)*0.8)]\n",
    "dev_set = words[int(len(words)*0.8):int(len(words)*0.9)]\n",
    "test_set = words[int(len(words)*0.9):]\n"
   ]
  },
  {
   "cell_type": "code",
   "execution_count": 15,
   "metadata": {},
   "outputs": [
    {
     "data": {
      "text/plain": [
       "{1: 'a',\n",
       " 2: 'b',\n",
       " 3: 'c',\n",
       " 4: 'd',\n",
       " 5: 'e',\n",
       " 6: 'f',\n",
       " 7: 'g',\n",
       " 8: 'h',\n",
       " 9: 'i',\n",
       " 10: 'j',\n",
       " 11: 'k',\n",
       " 12: 'l',\n",
       " 13: 'm',\n",
       " 14: 'n',\n",
       " 15: 'o',\n",
       " 16: 'p',\n",
       " 17: 'q',\n",
       " 18: 'r',\n",
       " 19: 's',\n",
       " 20: 't',\n",
       " 21: 'u',\n",
       " 22: 'v',\n",
       " 23: 'w',\n",
       " 24: 'x',\n",
       " 25: 'y',\n",
       " 26: 'z',\n",
       " 0: '.'}"
      ]
     },
     "execution_count": 15,
     "metadata": {},
     "output_type": "execute_result"
    }
   ],
   "source": [
    "# Map the words to indexes\n",
    "chars = sorted(list(set(''.join(words)))) # get the unique characters through the set() method\n",
    "stoi = {s:i +1 for i,s in enumerate(chars)} # string to index\n",
    "stoi['.'] = 0 # end character\n",
    "\n",
    "itos = {i:s for s,i in stoi.items()} # index to string\n",
    "itos"
   ]
  },
  {
   "cell_type": "markdown",
   "metadata": {},
   "source": [
    "## Let's now implement the Bigram Model & see how our model performs"
   ]
  },
  {
   "cell_type": "code",
   "execution_count": 30,
   "metadata": {},
   "outputs": [],
   "source": [
    "import torch\n",
    "\n",
    "xs, ys = [], []\n",
    "\n",
    "for w in train_set:\n",
    "    with_breaks = ['.'] + list(w) + ['.']\n",
    "    for ch1, ch2 in zip(with_breaks, with_breaks[1:]):\n",
    "        index_one = stoi[ch1]\n",
    "        index_two = stoi[ch2]\n",
    "\n",
    "        xs.append(index_one) # this is the training set for the neural network\n",
    "        ys.append(index_two)\n",
    "\n",
    "xs = torch.tensor(xs) # convert to tensor\n",
    "ys = torch.tensor(ys)\n",
    "\n",
    "batch_size = xs.nelement()"
   ]
  },
  {
   "cell_type": "code",
   "execution_count": 33,
   "metadata": {},
   "outputs": [
    {
     "data": {
      "text/plain": [
       "182699"
      ]
     },
     "execution_count": 33,
     "metadata": {},
     "output_type": "execute_result"
    }
   ],
   "source": [
    "import torch.nn.functional as F\n",
    "\n",
    "xenc = F.one_hot(xs).float() # one hot encode the inputs\n",
    "batch_size"
   ]
  },
  {
   "cell_type": "code",
   "execution_count": 36,
   "metadata": {},
   "outputs": [
    {
     "name": "stdout",
     "output_type": "stream",
     "text": [
      "10.805068016052246\n",
      "3.2928354740142822\n",
      "3.1858861446380615\n",
      "3.181519031524658\n",
      "3.1809442043304443\n",
      "3.180788993835449\n",
      "3.1807479858398438\n",
      "3.180734395980835\n",
      "3.180729866027832\n",
      "3.1807281970977783\n",
      "3.180727958679199\n",
      "3.180727958679199\n",
      "3.180727958679199\n",
      "3.180727958679199\n",
      "3.18072772026062\n",
      "3.180727481842041\n",
      "3.18072772026062\n",
      "3.180727481842041\n",
      "3.18072772026062\n",
      "3.180727481842041\n",
      "3.180727481842041\n",
      "3.18072772026062\n",
      "3.18072772026062\n",
      "3.18072772026062\n",
      "3.18072772026062\n",
      "3.18072772026062\n",
      "3.18072772026062\n",
      "3.180727958679199\n",
      "3.18072772026062\n",
      "3.180727481842041\n",
      "3.18072772026062\n",
      "3.180727481842041\n",
      "3.180727958679199\n",
      "3.18072772026062\n",
      "3.180727958679199\n",
      "3.18072772026062\n",
      "3.180727958679199\n",
      "3.18072772026062\n",
      "3.180727958679199\n",
      "3.180727481842041\n"
     ]
    }
   ],
   "source": [
    "import torch.nn.functional as F\n",
    "\n",
    "g = torch.Generator().manual_seed(2147483647)\n",
    "weights = torch.randn(27, 27, requires_grad=True, generator=g) # create a random weight matrix\n",
    "\n",
    "for k in range(40):\n",
    "    #forward pass\n",
    "    logits = xenc @ weights # matrix multiplication, give us the log counts\n",
    "    counts = logits.exp() # convert to counts, get rid of the negatives\n",
    "    probs = counts / counts.sum(1, keepdims=True)\n",
    "    loss = -probs[torch.arange(batch_size), ys].log().mean() + 0.01*(weights**2).sum() # L2 regularization. The weights want to be zero, when it's not there is loss so you want to squash\n",
    "    print(loss.item())\n",
    "\n",
    "    # backward pass\n",
    "    weights.grad = None\n",
    "    loss.backward()\n",
    "\n",
    "    # update\n",
    "    weights.data += -50 * weights.grad\n"
   ]
  },
  {
   "cell_type": "code",
   "execution_count": 39,
   "metadata": {},
   "outputs": [],
   "source": [
    "# Convert my dev set to indices so that I can evaluate the model\n",
    "dev_xs, dev_ys = [], []\n",
    "\n",
    "for w in dev_set:\n",
    "    with_breaks = ['.'] + list(w) + ['.']\n",
    "    for ch1, ch2 in zip(with_breaks, with_breaks[1:]):\n",
    "        index_one = stoi[ch1]\n",
    "        index_two = stoi[ch2]\n",
    "\n",
    "        dev_xs.append(index_one) # this is the training set for the neural network\n",
    "        dev_ys.append(index_two)\n",
    "\n",
    "dev_xs = torch.tensor(dev_xs) # convert to tensor\n",
    "dev_ys = torch.tensor(dev_ys)\n",
    "\n",
    "dev_batch_size = xs.nelement()"
   ]
  },
  {
   "cell_type": "code",
   "execution_count": 50,
   "metadata": {},
   "outputs": [
    {
     "data": {
      "text/plain": [
       "tensor([ 0,  5, 13,  ..., 12,  9,  1])"
      ]
     },
     "execution_count": 50,
     "metadata": {},
     "output_type": "execute_result"
    }
   ],
   "source": [
    "dev_xs # contains the indices of the dev set"
   ]
  },
  {
   "cell_type": "code",
   "execution_count": 61,
   "metadata": {},
   "outputs": [
    {
     "name": "stdout",
     "output_type": "stream",
     "text": [
      "Accuracy: 0.2273\n"
     ]
    }
   ],
   "source": [
    "# Now let's sample from the neural net using the dev set\n",
    "# We'll develop an accuracy metric\n",
    "\n",
    "correct_predictions = 0\n",
    "total_predictions = 0\n",
    "\n",
    "# Assuming dev_xs and dev_ys contain corresponding character indices from the dev set\n",
    "for i in range(len(dev_xs)):\n",
    "    current_index = dev_xs[i].item()\n",
    "    next_true_index = dev_ys[i].item()\n",
    "\n",
    "    # Encode the current index\n",
    "    xenc = F.one_hot(torch.tensor([current_index]), num_classes=27).float()\n",
    "\n",
    "    # Do a forward pass\n",
    "    logits = xenc @ weights\n",
    "    counts = logits.exp()\n",
    "    probs = counts / counts.sum(1, keepdims=True)\n",
    "\n",
    "    # Get the predicted next character index\n",
    "    predicted_index = torch.argmax(probs, dim=1).item()  # Using argmax for deterministic prediction here\n",
    "\n",
    "    # Update accuracy counters\n",
    "    correct_predictions += (predicted_index == next_true_index)\n",
    "    total_predictions += 1\n",
    "\n",
    "# Calculate and print accuracy\n",
    "accuracy = correct_predictions / total_predictions if total_predictions > 0 else 0\n",
    "print(f\"Accuracy: {accuracy:.4f}\")\n"
   ]
  },
  {
   "cell_type": "code",
   "execution_count": null,
   "metadata": {},
   "outputs": [],
   "source": []
  }
 ],
 "metadata": {
  "kernelspec": {
   "display_name": "myenv",
   "language": "python",
   "name": "python3"
  },
  "language_info": {
   "codemirror_mode": {
    "name": "ipython",
    "version": 3
   },
   "file_extension": ".py",
   "mimetype": "text/x-python",
   "name": "python",
   "nbconvert_exporter": "python",
   "pygments_lexer": "ipython3",
   "version": "3.8.8"
  }
 },
 "nbformat": 4,
 "nbformat_minor": 2
}
